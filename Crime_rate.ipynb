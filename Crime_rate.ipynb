{
  "nbformat": 4,
  "nbformat_minor": 0,
  "metadata": {
    "colab": {
      "provenance": [],
      "authorship_tag": "ABX9TyOo/VyasgIksa3vI4dKAhp1",
      "include_colab_link": true
    },
    "kernelspec": {
      "name": "python3",
      "display_name": "Python 3"
    },
    "language_info": {
      "name": "python"
    }
  },
  "cells": [
    {
      "cell_type": "markdown",
      "metadata": {
        "id": "view-in-github",
        "colab_type": "text"
      },
      "source": [
        "<a href=\"https://colab.research.google.com/github/AshleynLai/Nyc_airbn_listings/blob/main/Crime_rate.ipynb\" target=\"_parent\"><img src=\"https://colab.research.google.com/assets/colab-badge.svg\" alt=\"Open In Colab\"/></a>"
      ]
    },
    {
      "cell_type": "code",
      "execution_count": null,
      "metadata": {
        "id": "FKTDsU5l5e4w"
      },
      "outputs": [],
      "source": [
        "from google.colab import files\n",
        "uploaded = files.upload()\n",
        "\n",
        "import pandas as pd\n",
        "import io\n"
      ]
    },
    {
      "cell_type": "code",
      "source": [
        "df = pd.read_csv(io.BytesIO(uploaded['crime_rate_data (1).csv']))\n",
        "print(df)"
      ],
      "metadata": {
        "id": "XlKzW_gz6Odh"
      },
      "execution_count": null,
      "outputs": []
    },
    {
      "cell_type": "code",
      "source": [
        "# Split rows containing '/' into separate rows\n",
        "df['Name'] = df['Name'].str.split('/')\n",
        "\n",
        "# Use the explode function to create multiple rows from lists\n",
        "df = df.explode('Name', ignore_index=True)\n",
        "\n",
        "# Remove columns\n",
        "df.drop(columns=['Geography', 'Level', 'Year'], inplace=True)\n",
        "# Separate the header row (row 6)\n",
        "df = df.drop(df.index[df.index < 6])\n",
        "horizontal_df = pd.concat([df], axis=1, ignore_index=True)\n",
        "print(horizontal_df.head(20))\n",
        "\n",
        "from google.colab import files\n",
        "df.to_csv('nyc_crime_rate.csv')\n",
        "files.download('nyc_crime_rate.csv')"
      ],
      "metadata": {
        "id": "bL2yPprd5gt0"
      },
      "execution_count": null,
      "outputs": []
    },
    {
      "cell_type": "code",
      "source": [],
      "metadata": {
        "id": "gt_Hk0Ku6Ntz"
      },
      "execution_count": null,
      "outputs": []
    }
  ]
}